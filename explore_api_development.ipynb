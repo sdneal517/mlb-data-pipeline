{
 "cells": [
  {
   "cell_type": "code",
   "execution_count": 1,
   "id": "f5d72c11-3ad6-45a6-93cd-30f621a63e62",
   "metadata": {},
   "outputs": [],
   "source": [
    "\"\"\"\n",
    "MLB API Explorer - for thorough endpoint exploration\n",
    "\"\"\"\n",
    "\n",
    "import requests\n",
    "import pandas as pd"
   ]
  },
  {
   "cell_type": "code",
   "execution_count": 2,
   "id": "51b71b38-58f8-44ba-b9a0-9cbb29deeed5",
   "metadata": {},
   "outputs": [],
   "source": [
    "def fetch_endpoint(url):\n",
    "   # 'url' is a parameter - a placeholder for whatever URL gets passed in\n",
    "   # When you call fetch_endpoint(\"some_url\"), that string becomes 'url' inside here\n",
    "   response = requests.get(url)  # Uses whatever URL was passed to the function\n",
    "   data = response.json()        # Convert response to JSON\n",
    "   return data                   # Send the data back to whoever called this function"
   ]
  },
  {
   "cell_type": "code",
   "execution_count": 3,
   "id": "043330a8-70b8-47cd-9f90-42f5349da6e1",
   "metadata": {},
   "outputs": [
    {
     "name": "stdout",
     "output_type": "stream",
     "text": [
      "Status check - did we get data?\n",
      "<class 'dict'>\n",
      "Top-level keys: ['timestamp', 'status', 'error', 'path']\n"
     ]
    }
   ],
   "source": [
    "# Test the function with a game endpoint\n",
    "game_url = \"https://statsapi.mlb.com/api/v1/game/717633/feed/live\"\n",
    "data = fetch_endpoint(game_url)\n",
    "\n",
    "# Check what we got back\n",
    "print(\"Status check - did we get data?\")\n",
    "print(type(data))\n",
    "print(\"Top-level keys:\", list(data.keys()) if isinstance(data, dict) else \"Not a dict\")"
   ]
  }
 ],
 "metadata": {
  "kernelspec": {
   "display_name": "Python 3 (ipykernel)",
   "language": "python",
   "name": "python3"
  },
  "language_info": {
   "codemirror_mode": {
    "name": "ipython",
    "version": 3
   },
   "file_extension": ".py",
   "mimetype": "text/x-python",
   "name": "python",
   "nbconvert_exporter": "python",
   "pygments_lexer": "ipython3",
   "version": "3.13.1"
  }
 },
 "nbformat": 4,
 "nbformat_minor": 5
}
