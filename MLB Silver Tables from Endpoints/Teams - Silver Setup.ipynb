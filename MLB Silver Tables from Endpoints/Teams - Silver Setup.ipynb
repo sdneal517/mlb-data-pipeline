{
 "cells": [
  {
   "cell_type": "code",
   "execution_count": 1,
   "id": "68addba3-809e-4b59-ad5d-786a9e56849e",
   "metadata": {},
   "outputs": [
    {
     "name": "stdout",
     "output_type": "stream",
     "text": [
      "Type: <class 'dict'>\n",
      "Top-level keys: ['copyright', 'teams']\n"
     ]
    }
   ],
   "source": [
    "import statsapi   # import first\n",
    "\n",
    "# Get the teams data\n",
    "teams_data = statsapi.get(\"teams\")\n",
    "\n",
    "print(\"Type:\", type(teams_data))          # dict\n",
    "print(\"Top-level keys:\", list(teams_data.keys()))\n"
   ]
  },
  {
   "cell_type": "code",
   "execution_count": 2,
   "id": "5008d7cd-eef7-4737-9d02-040093f7a677",
   "metadata": {},
   "outputs": [
    {
     "name": "stdout",
     "output_type": "stream",
     "text": [
      "Type of teams_list: <class 'list'>\n",
      "Number of teams: 790\n",
      "First team type: <class 'dict'>\n",
      "Keys in first team: ['allStarStatus', 'id', 'name', 'link', 'season', 'venue', 'teamCode', 'fileCode', 'abbreviation', 'teamName', 'locationName', 'firstYearOfPlay', 'league', 'sport', 'shortName', 'parentOrgName', 'parentOrgId', 'franchiseName', 'clubName', 'active']\n"
     ]
    }
   ],
   "source": [
    "# Extract the \"teams\" list from the dict\n",
    "teams_list = teams_data[\"teams\"]\n",
    "\n",
    "print(\"Type of teams_list:\", type(teams_list))   # list\n",
    "print(\"Number of teams:\", len(teams_list))\n",
    "\n",
    "# Peek at first team keys\n",
    "first_team = teams_list[0]\n",
    "print(\"First team type:\", type(first_team))\n",
    "print(\"Keys in first team:\", list(first_team.keys()))\n"
   ]
  },
  {
   "cell_type": "code",
   "execution_count": 3,
   "id": "90723989-f54d-4315-a083-7d160ecd24ab",
   "metadata": {},
   "outputs": [
    {
     "name": "stdout",
     "output_type": "stream",
     "text": [
      "Number of MLB teams: 30\n",
      "First 5 MLB teams: ['Los Angeles Angels', 'Arizona Diamondbacks', 'Baltimore Orioles', 'Boston Red Sox', 'Chicago Cubs']\n",
      "ID: 108 | Name: Los Angeles Angels | Abbreviation: LAA\n",
      "ID: 109 | Name: Arizona Diamondbacks | Abbreviation: AZ\n",
      "ID: 110 | Name: Baltimore Orioles | Abbreviation: BAL\n",
      "ID: 111 | Name: Boston Red Sox | Abbreviation: BOS\n",
      "ID: 112 | Name: Chicago Cubs | Abbreviation: CHC\n"
     ]
    }
   ],
   "source": [
    "mlb_teams = []  # start with an empty list\n",
    "\n",
    "for t in teams_list:                       # loop through every team\n",
    "    sport_dict = t.get(\"sport\", {})        # safely get the nested \"sport\" dict\n",
    "    sport_id = sport_dict.get(\"id\")        # then get the \"id\" inside sport\n",
    "    \n",
    "    if sport_id == 1:                      # keep only Major League Baseball (id=1)\n",
    "        mlb_teams.append(t)                # add this team to the new list\n",
    "\n",
    "\n",
    "print(\"Number of MLB teams:\", len(mlb_teams))\n",
    "print(\"First 5 MLB teams:\", [team[\"name\"] for team in mlb_teams[:5]])\n",
    "\n",
    "for team in mlb_teams[:5]:\n",
    "    print(f\"ID: {team['id']} | Name: {team['name']} | Abbreviation: {team['abbreviation']}\")\n"
   ]
  },
  {
   "cell_type": "code",
   "execution_count": 4,
   "id": "6df735cb-8293-4cc4-8dfc-3daa2a4bbb4b",
   "metadata": {},
   "outputs": [
    {
     "name": "stdout",
     "output_type": "stream",
     "text": [
      "\n",
      "--- MLB Team 1 ---\n",
      "{'abbreviation': 'LAA',\n",
      " 'active': True,\n",
      " 'allStarStatus': 'N',\n",
      " 'clubName': 'Angels',\n",
      " 'division': {'id': 200,\n",
      "              'link': '/api/v1/divisions/200',\n",
      "              'name': 'American League West'},\n",
      " 'fileCode': 'ana',\n",
      " 'firstYearOfPlay': '1961',\n",
      " 'franchiseName': 'Los Angeles',\n",
      " 'id': 108,\n",
      " 'league': {'id': 103, 'link': '/api/v1/league/103', 'name': 'American League'},\n",
      " 'link': '/api/v1/teams/108',\n",
      " 'locationName': 'Anaheim',\n",
      " 'name': 'Los Angeles Angels',\n",
      " 'season': 2025,\n",
      " 'shortName': 'LA Angels',\n",
      " 'sport': {'id': 1,\n",
      "           'link': '/api/v1/sports/1',\n",
      "           'name': 'Major League Baseball'},\n",
      " 'springLeague': {'abbreviation': 'CL',\n",
      "                  'id': 114,\n",
      "                  'link': '/api/v1/league/114',\n",
      "                  'name': 'Cactus League'},\n",
      " 'springVenue': {'id': 2500, 'link': '/api/v1/venues/2500'},\n",
      " 'teamCode': 'ana',\n",
      " 'teamName': 'Angels',\n",
      " 'venue': {'id': 1, 'link': '/api/v1/venues/1', 'name': 'Angel Stadium'}}\n",
      "\n",
      "--- MLB Team 2 ---\n",
      "{'abbreviation': 'AZ',\n",
      " 'active': True,\n",
      " 'allStarStatus': 'N',\n",
      " 'clubName': 'Diamondbacks',\n",
      " 'division': {'id': 203,\n",
      "              'link': '/api/v1/divisions/203',\n",
      "              'name': 'National League West'},\n",
      " 'fileCode': 'ari',\n",
      " 'firstYearOfPlay': '1996',\n",
      " 'franchiseName': 'Arizona',\n",
      " 'id': 109,\n",
      " 'league': {'id': 104, 'link': '/api/v1/league/104', 'name': 'National League'},\n",
      " 'link': '/api/v1/teams/109',\n",
      " 'locationName': 'Phoenix',\n",
      " 'name': 'Arizona Diamondbacks',\n",
      " 'season': 2025,\n",
      " 'shortName': 'Arizona',\n",
      " 'sport': {'id': 1,\n",
      "           'link': '/api/v1/sports/1',\n",
      "           'name': 'Major League Baseball'},\n",
      " 'springLeague': {'abbreviation': 'CL',\n",
      "                  'id': 114,\n",
      "                  'link': '/api/v1/league/114',\n",
      "                  'name': 'Cactus League'},\n",
      " 'springVenue': {'id': 4249, 'link': '/api/v1/venues/4249'},\n",
      " 'teamCode': 'ari',\n",
      " 'teamName': 'D-backs',\n",
      " 'venue': {'id': 15, 'link': '/api/v1/venues/15', 'name': 'Chase Field'}}\n"
     ]
    }
   ],
   "source": [
    "from pprint import pprint\n",
    "\n",
    "for i, team in enumerate(mlb_teams[:2], start=1):\n",
    "    print(f\"\\n--- MLB Team {i} ---\")\n",
    "    pprint(team)\n"
   ]
  },
  {
   "cell_type": "code",
   "execution_count": 5,
   "id": "c2e1ff33-0318-4318-ade7-f88d063d29ae",
   "metadata": {},
   "outputs": [
    {
     "name": "stdout",
     "output_type": "stream",
     "text": [
      "{'id': 108, 'name': 'Los Angeles Angels', 'abbreviation': 'LAA', 'division': 'American League West', 'league': 'American League', 'location': 'Anaheim', 'first_year': '1961'}\n",
      "{'id': 109, 'name': 'Arizona Diamondbacks', 'abbreviation': 'AZ', 'division': 'National League West', 'league': 'National League', 'location': 'Phoenix', 'first_year': '1996'}\n",
      "{'id': 110, 'name': 'Baltimore Orioles', 'abbreviation': 'BAL', 'division': 'American League East', 'league': 'American League', 'location': 'Baltimore', 'first_year': '1901'}\n",
      "{'id': 111, 'name': 'Boston Red Sox', 'abbreviation': 'BOS', 'division': 'American League East', 'league': 'American League', 'location': 'Boston', 'first_year': '1901'}\n",
      "{'id': 112, 'name': 'Chicago Cubs', 'abbreviation': 'CHC', 'division': 'National League Central', 'league': 'National League', 'location': 'Chicago', 'first_year': '1874'}\n"
     ]
    }
   ],
   "source": [
    "clean_teams = []\n",
    "\n",
    "for team in mlb_teams:\n",
    "    clean_team = {\n",
    "        \"id\": team[\"id\"],\n",
    "        \"name\": team[\"name\"],\n",
    "        \"abbreviation\": team[\"abbreviation\"],\n",
    "        \"division\": team.get(\"division\", {}).get(\"name\"),\n",
    "        \"league\": team.get(\"league\", {}).get(\"name\"),\n",
    "        \"location\": team[\"locationName\"],\n",
    "        \"first_year\": team[\"firstYearOfPlay\"]\n",
    "    }\n",
    "    clean_teams.append(clean_team)\n",
    "\n",
    "for ct in clean_teams[:5]:\n",
    "    print(ct)\n"
   ]
  },
  {
   "cell_type": "code",
   "execution_count": 6,
   "id": "6ab53a4d-0a5f-4ac0-bb3a-c8c074827762",
   "metadata": {},
   "outputs": [
    {
     "name": "stdout",
     "output_type": "stream",
     "text": [
      "Shape: (30, 7)\n"
     ]
    },
    {
     "data": {
      "text/html": [
       "<div>\n",
       "<style scoped>\n",
       "    .dataframe tbody tr th:only-of-type {\n",
       "        vertical-align: middle;\n",
       "    }\n",
       "\n",
       "    .dataframe tbody tr th {\n",
       "        vertical-align: top;\n",
       "    }\n",
       "\n",
       "    .dataframe thead th {\n",
       "        text-align: right;\n",
       "    }\n",
       "</style>\n",
       "<table border=\"1\" class=\"dataframe\">\n",
       "  <thead>\n",
       "    <tr style=\"text-align: right;\">\n",
       "      <th></th>\n",
       "      <th>id</th>\n",
       "      <th>name</th>\n",
       "      <th>abbreviation</th>\n",
       "      <th>division</th>\n",
       "      <th>league</th>\n",
       "      <th>location</th>\n",
       "      <th>first_year</th>\n",
       "    </tr>\n",
       "  </thead>\n",
       "  <tbody>\n",
       "    <tr>\n",
       "      <th>0</th>\n",
       "      <td>108</td>\n",
       "      <td>Los Angeles Angels</td>\n",
       "      <td>LAA</td>\n",
       "      <td>American League West</td>\n",
       "      <td>American League</td>\n",
       "      <td>Anaheim</td>\n",
       "      <td>1961</td>\n",
       "    </tr>\n",
       "    <tr>\n",
       "      <th>1</th>\n",
       "      <td>109</td>\n",
       "      <td>Arizona Diamondbacks</td>\n",
       "      <td>AZ</td>\n",
       "      <td>National League West</td>\n",
       "      <td>National League</td>\n",
       "      <td>Phoenix</td>\n",
       "      <td>1996</td>\n",
       "    </tr>\n",
       "    <tr>\n",
       "      <th>2</th>\n",
       "      <td>110</td>\n",
       "      <td>Baltimore Orioles</td>\n",
       "      <td>BAL</td>\n",
       "      <td>American League East</td>\n",
       "      <td>American League</td>\n",
       "      <td>Baltimore</td>\n",
       "      <td>1901</td>\n",
       "    </tr>\n",
       "    <tr>\n",
       "      <th>3</th>\n",
       "      <td>111</td>\n",
       "      <td>Boston Red Sox</td>\n",
       "      <td>BOS</td>\n",
       "      <td>American League East</td>\n",
       "      <td>American League</td>\n",
       "      <td>Boston</td>\n",
       "      <td>1901</td>\n",
       "    </tr>\n",
       "    <tr>\n",
       "      <th>4</th>\n",
       "      <td>112</td>\n",
       "      <td>Chicago Cubs</td>\n",
       "      <td>CHC</td>\n",
       "      <td>National League Central</td>\n",
       "      <td>National League</td>\n",
       "      <td>Chicago</td>\n",
       "      <td>1874</td>\n",
       "    </tr>\n",
       "  </tbody>\n",
       "</table>\n",
       "</div>"
      ],
      "text/plain": [
       "    id                  name abbreviation                 division  \\\n",
       "0  108    Los Angeles Angels          LAA     American League West   \n",
       "1  109  Arizona Diamondbacks           AZ     National League West   \n",
       "2  110     Baltimore Orioles          BAL     American League East   \n",
       "3  111        Boston Red Sox          BOS     American League East   \n",
       "4  112          Chicago Cubs          CHC  National League Central   \n",
       "\n",
       "            league   location first_year  \n",
       "0  American League    Anaheim       1961  \n",
       "1  National League    Phoenix       1996  \n",
       "2  American League  Baltimore       1901  \n",
       "3  American League     Boston       1901  \n",
       "4  National League    Chicago       1874  "
      ]
     },
     "execution_count": 6,
     "metadata": {},
     "output_type": "execute_result"
    }
   ],
   "source": [
    "import pandas as pd\n",
    "\n",
    "df_teams = pd.DataFrame(clean_teams)\n",
    "\n",
    "print(\"Shape:\", df_teams.shape)\n",
    "df_teams.head()\n"
   ]
  },
  {
   "cell_type": "code",
   "execution_count": 7,
   "id": "8f91f184-6bce-4180-a8dd-f3d193f901a2",
   "metadata": {},
   "outputs": [
    {
     "name": "stdout",
     "output_type": "stream",
     "text": [
      "CWD: C:\\users\\sneal\\Dev\\mlb-data-pipeline\\MLB Silver Tables from Endpoints\n"
     ]
    }
   ],
   "source": [
    "import os\n",
    "print(\"CWD:\", os.getcwd())\n"
   ]
  },
  {
   "cell_type": "code",
   "execution_count": 8,
   "id": "c5e147ee-98a5-458f-832c-a1e4c8ab4507",
   "metadata": {},
   "outputs": [
    {
     "name": "stdout",
     "output_type": "stream",
     "text": [
      "✅ teams_silver written: 30 rows\n",
      "   team_id             team_name team_abbr         division_name  \\\n",
      "0      108    Los Angeles Angels       LAA  American League West   \n",
      "1      109  Arizona Diamondbacks        AZ  National League West   \n",
      "2      110     Baltimore Orioles       BAL  American League East   \n",
      "\n",
      "       league_name location_name first_year                 created_at  \\\n",
      "0  American League       Anaheim       1961 2025-09-09 10:55:59.265766   \n",
      "1  National League       Phoenix       1996 2025-09-09 10:55:59.265766   \n",
      "2  American League     Baltimore       1901 2025-09-09 10:55:59.265766   \n",
      "\n",
      "                last_updated  \n",
      "0 2025-09-09 10:55:59.268304  \n",
      "1 2025-09-09 10:55:59.268304  \n",
      "2 2025-09-09 10:55:59.268304  \n"
     ]
    }
   ],
   "source": [
    "import sqlite3\n",
    "from datetime import datetime\n",
    "\n",
    "# Add metadata timestamps\n",
    "df_teams[\"created_at\"] = datetime.now()\n",
    "df_teams[\"last_updated\"] = datetime.now()\n",
    "\n",
    "# Rename columns for consistency\n",
    "df_teams = df_teams.rename(columns={\n",
    "    \"id\": \"team_id\",\n",
    "    \"name\": \"team_name\",\n",
    "    \"abbreviation\": \"team_abbr\",\n",
    "    \"division\": \"division_name\",\n",
    "    \"league\": \"league_name\",\n",
    "    \"location\": \"location_name\"\n",
    "})\n",
    "\n",
    "# Write to SQLite\n",
    "db_path = r\"C:\\Users\\sneal\\Dev\\mlb-data-pipeline\\mlb_data.db\"\n",
    "conn = sqlite3.connect(db_path)\n",
    "\n",
    "df_teams.to_sql(\"teams_silver\", conn, if_exists=\"replace\", index=False)\n",
    "\n",
    "conn.close()\n",
    "\n",
    "print(f\"✅ teams_silver written: {len(df_teams)} rows\")\n",
    "print(df_teams.head(3))\n"
   ]
  },
  {
   "cell_type": "code",
   "execution_count": null,
   "id": "2378e6ec-8a5e-4fdb-9c60-bc6669eb1fbd",
   "metadata": {},
   "outputs": [],
   "source": []
  }
 ],
 "metadata": {
  "kernelspec": {
   "display_name": "Python 3 (ipykernel)",
   "language": "python",
   "name": "python3"
  },
  "language_info": {
   "codemirror_mode": {
    "name": "ipython",
    "version": 3
   },
   "file_extension": ".py",
   "mimetype": "text/x-python",
   "name": "python",
   "nbconvert_exporter": "python",
   "pygments_lexer": "ipython3",
   "version": "3.13.1"
  }
 },
 "nbformat": 4,
 "nbformat_minor": 5
}
