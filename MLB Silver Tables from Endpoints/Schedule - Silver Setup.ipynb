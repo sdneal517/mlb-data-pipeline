{
 "cells": [
  {
   "cell_type": "code",
   "execution_count": 1,
   "id": "e5d03d36-57f2-45c4-bf9c-246c06f6026f",
   "metadata": {},
   "outputs": [],
   "source": [
    "import statsapi\n",
    "import pandas as pd\n",
    "import sqlite3\n",
    "from datetime import date, timedelta, datetime\n",
    "\n",
    "# --- Step 1: Fetch schedule data ---\n",
    "# Grab yesterday, today, and tomorrow (so nothing slips through)\n",
    "start_date = (date.today() - timedelta(days=1)).isoformat()\n",
    "end_date   = (date.today() + timedelta(days=1)).isoformat()\n",
    "\n",
    "schedule_data = statsapi.get(\n",
    "    \"schedule\",\n",
    "    {\"sportId\": 1, \"startDate\": start_date, \"endDate\": end_date}\n",
    ")"
   ]
  },
  {
   "cell_type": "code",
   "execution_count": 2,
   "id": "4395e732-19d4-48d6-9aa4-c4db5d17606c",
   "metadata": {},
   "outputs": [
    {
     "name": "stdout",
     "output_type": "stream",
     "text": [
      "✅ Built 41 schedule records\n"
     ]
    }
   ],
   "source": [
    "# --- Step 2: Parse into clean rows ---\n",
    "clean_games = []\n",
    "\n",
    "for bucket in schedule_data.get(\"dates\", []):\n",
    "    for g in bucket.get(\"games\", []):\n",
    "        status = g.get(\"status\", {}) or {}\n",
    "        teams  = g.get(\"teams\", {}) or {}\n",
    "        home   = (teams.get(\"home\") or {}).get(\"team\") or {}\n",
    "        away   = (teams.get(\"away\") or {}).get(\"team\") or {}\n",
    "        venue  = g.get(\"venue\", {}) or {}\n",
    "\n",
    "        clean_games.append({\n",
    "            \"game_pk\": g.get(\"gamePk\"),\n",
    "            \"official_date\": g.get(\"officialDate\"),\n",
    "            \"game_datetime_utc\": g.get(\"gameDate\"),\n",
    "            \"status_code\": status.get(\"statusCode\"),\n",
    "            \"status_detailed\": status.get(\"detailedState\"),\n",
    "            \"game_type\": g.get(\"gameType\"),\n",
    "            \"series_game_number\": g.get(\"seriesGameNumber\"),\n",
    "            \"series_description\": g.get(\"seriesDescription\"),\n",
    "            \"doubleheader\": g.get(\"doubleHeader\"),\n",
    "            \"day_night\": g.get(\"dayNight\"),\n",
    "            \"scheduled_innings\": g.get(\"scheduledInnings\"),\n",
    "            \"home_team_id\": home.get(\"id\"),\n",
    "            \"home_team_name\": home.get(\"name\"),\n",
    "            \"away_team_id\": away.get(\"id\"),\n",
    "            \"away_team_name\": away.get(\"name\"),\n",
    "            \"venue_id\": venue.get(\"id\"),\n",
    "            \"venue_name\": venue.get(\"name\"),\n",
    "            \"created_at\": datetime.now(),\n",
    "            \"last_updated\": datetime.now()\n",
    "        })\n",
    "\n",
    "print(f\"✅ Built {len(clean_games)} schedule records\")\n"
   ]
  },
  {
   "cell_type": "code",
   "execution_count": 3,
   "id": "18bc22ed-719a-4536-a9e9-7d55b9876c70",
   "metadata": {},
   "outputs": [
    {
     "name": "stdout",
     "output_type": "stream",
     "text": [
      "Shape: (41, 19)\n",
      "   game_pk official_date     game_datetime_utc status_code status_detailed  \\\n",
      "0   776413    2025-09-08  2025-09-08T22:40:00Z           F           Final   \n",
      "1   776409    2025-09-08  2025-09-08T22:40:00Z           F           Final   \n",
      "2   776405    2025-09-08  2025-09-08T22:45:00Z           F           Final   \n",
      "\n",
      "  game_type  series_game_number series_description doubleheader day_night  \\\n",
      "0         R                   1     Regular Season            N     night   \n",
      "1         R                   1     Regular Season            N     night   \n",
      "2         R                   1     Regular Season            N     night   \n",
      "\n",
      "   scheduled_innings  home_team_id         home_team_name  away_team_id  \\\n",
      "0                  9           114    Cleveland Guardians           118   \n",
      "1                  9           146          Miami Marlins           120   \n",
      "2                  9           143  Philadelphia Phillies           121   \n",
      "\n",
      "         away_team_name  venue_id          venue_name  \\\n",
      "0    Kansas City Royals         5   Progressive Field   \n",
      "1  Washington Nationals      4169      loanDepot park   \n",
      "2         New York Mets      2681  Citizens Bank Park   \n",
      "\n",
      "                  created_at               last_updated  \n",
      "0 2025-09-09 11:02:11.809230 2025-09-09 11:02:11.809233  \n",
      "1 2025-09-09 11:02:11.809243 2025-09-09 11:02:11.809244  \n",
      "2 2025-09-09 11:02:11.809250 2025-09-09 11:02:11.809250  \n"
     ]
    }
   ],
   "source": [
    "# --- Step 3: Load into DataFrame ---\n",
    "df_schedule = pd.DataFrame(clean_games)\n",
    "print(\"Shape:\", df_schedule.shape)\n",
    "print(df_schedule.head(3))"
   ]
  },
  {
   "cell_type": "code",
   "execution_count": 4,
   "id": "2e0d45c0-7c27-4b5a-97fb-fb80ea7dc905",
   "metadata": {},
   "outputs": [
    {
     "name": "stdout",
     "output_type": "stream",
     "text": [
      "✅ schedule_silver written: 41 rows\n"
     ]
    }
   ],
   "source": [
    "# --- Step 4: Write to SQLite ---\n",
    "db_path = r\"C:\\Users\\sneal\\Dev\\mlb-data-pipeline\\mlb_data.db\"\n",
    "conn = sqlite3.connect(db_path)\n",
    "\n",
    "df_schedule.to_sql(\"schedule_silver\", conn, if_exists=\"replace\", index=False)\n",
    "\n",
    "conn.close()\n",
    "\n",
    "print(f\"✅ schedule_silver written: {len(df_schedule)} rows\")"
   ]
  }
 ],
 "metadata": {
  "kernelspec": {
   "display_name": "Python 3 (ipykernel)",
   "language": "python",
   "name": "python3"
  },
  "language_info": {
   "codemirror_mode": {
    "name": "ipython",
    "version": 3
   },
   "file_extension": ".py",
   "mimetype": "text/x-python",
   "name": "python",
   "nbconvert_exporter": "python",
   "pygments_lexer": "ipython3",
   "version": "3.13.1"
  }
 },
 "nbformat": 4,
 "nbformat_minor": 5
}
