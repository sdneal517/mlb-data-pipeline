{
 "cells": [
  {
   "cell_type": "code",
   "execution_count": 1,
   "id": "81a3c143-1564-494f-be3c-082a9a98253f",
   "metadata": {},
   "outputs": [],
   "source": [
    "import statsapi\n",
    "import pandas as pd\n",
    "import requests\n",
    "import sqlite3\n",
    "from datetime import date, datetime\n",
    "\n",
    "today = date.today().isoformat()\n",
    "\n",
    "# --- Step 1: Fetch standings for both AL + NL ---\n",
    "clean_rows = []\n",
    "for league_id in [103, 104]:  # AL=103, NL=104\n",
    "    standings_data = statsapi.get(\"standings\", {\"leagueId\": league_id, \"season\": 2025, \"date\": today})\n",
    "    for rec in standings_data.get(\"records\", []):\n",
    "        league = rec.get(\"league\", {}) or {}\n",
    "        division = rec.get(\"division\", {}) or {}\n",
    "        for tr in rec.get(\"teamRecords\", []):\n",
    "            team = tr.get(\"team\", {}) or {}\n",
    "            clean_rows.append({\n",
    "                \"season\": 2025,\n",
    "                \"standings_date\": today,\n",
    "                \"league_id\": league.get(\"id\"),\n",
    "                \"division_id\": division.get(\"id\"),\n",
    "                \"team_id\": team.get(\"id\"),\n",
    "                \"team_name\": team.get(\"name\"),\n",
    "                \"wins\": tr.get(\"wins\"),\n",
    "                \"losses\": tr.get(\"losses\"),\n",
    "                \"pct\": tr.get(\"winningPercentage\"),\n",
    "                \"games_back\": tr.get(\"gamesBack\"),\n",
    "                \"wc_games_back\": tr.get(\"wildCardGamesBack\"),\n",
    "                \"division_leader\": tr.get(\"divisionLeader\"),\n",
    "                \"created_at\": datetime.now(),\n",
    "                \"last_updated\": datetime.now()\n",
    "            })\n",
    "\n",
    "df_standings = pd.DataFrame(clean_rows)\n",
    "\n"
   ]
  },
  {
   "cell_type": "code",
   "execution_count": 2,
   "id": "4407cca0-1f26-4229-bc36-ea496558fa86",
   "metadata": {},
   "outputs": [
    {
     "name": "stdout",
     "output_type": "stream",
     "text": [
      "✅ Shape: (30, 16)\n",
      "   season standings_date  league_id  division_id  team_id          team_name  \\\n",
      "0    2025     2025-09-09        103          201      141  Toronto Blue Jays   \n",
      "1    2025     2025-09-09        103          201      147   New York Yankees   \n",
      "2    2025     2025-09-09        103          201      111     Boston Red Sox   \n",
      "3    2025     2025-09-09        103          201      139     Tampa Bay Rays   \n",
      "4    2025     2025-09-09        103          201      110  Baltimore Orioles   \n",
      "\n",
      "   wins  losses   pct games_back wc_games_back  division_leader  \\\n",
      "0    82      61  .573          -             -             True   \n",
      "1    80      63  .559        2.0          +4.5            False   \n",
      "2    80      65  .552        3.0          +3.5            False   \n",
      "3    71      72  .497       11.0           4.5            False   \n",
      "4    66      77  .462       16.0           9.5            False   \n",
      "\n",
      "                  created_at               last_updated      league_name  \\\n",
      "0 2025-09-09 11:06:01.196312 2025-09-09 11:06:01.196317  American League   \n",
      "1 2025-09-09 11:06:01.196325 2025-09-09 11:06:01.196325  American League   \n",
      "2 2025-09-09 11:06:01.196329 2025-09-09 11:06:01.196329  American League   \n",
      "3 2025-09-09 11:06:01.196331 2025-09-09 11:06:01.196331  American League   \n",
      "4 2025-09-09 11:06:01.196333 2025-09-09 11:06:01.196334  American League   \n",
      "\n",
      "          division_name  \n",
      "0  American League East  \n",
      "1  American League East  \n",
      "2  American League East  \n",
      "3  American League East  \n",
      "4  American League East  \n"
     ]
    }
   ],
   "source": [
    "# --- Step 2: Enrich with League + Division lookups ---\n",
    "leagues = requests.get(\"https://statsapi.mlb.com/api/v1/leagues\").json()[\"leagues\"]\n",
    "df_leagues = pd.DataFrame([{\"league_id\": l[\"id\"], \"league_name\": l[\"name\"]} for l in leagues])\n",
    "\n",
    "divs = requests.get(\"https://statsapi.mlb.com/api/v1/divisions\").json()[\"divisions\"]\n",
    "df_divs = pd.DataFrame([{\"division_id\": d[\"id\"], \"division_name\": d[\"name\"]} for d in divs])\n",
    "\n",
    "df_standings = df_standings.merge(df_leagues, on=\"league_id\", how=\"left\")\n",
    "df_standings = df_standings.merge(df_divs, on=\"division_id\", how=\"left\")\n",
    "\n",
    "print(\"✅ Shape:\", df_standings.shape)\n",
    "print(df_standings.head(5))"
   ]
  },
  {
   "cell_type": "code",
   "execution_count": 3,
   "id": "afedf99e-ee36-4c25-8dae-6b9fb39695bc",
   "metadata": {},
   "outputs": [
    {
     "name": "stdout",
     "output_type": "stream",
     "text": [
      "✅ standings_silver written: 30 rows\n"
     ]
    }
   ],
   "source": [
    "# --- Step 3: Write to SQLite ---\n",
    "db_path = r\"C:\\Users\\sneal\\Dev\\mlb-data-pipeline\\mlb_data.db\"\n",
    "conn = sqlite3.connect(db_path)\n",
    "\n",
    "df_standings.to_sql(\"standings_silver\", conn, if_exists=\"replace\", index=False)\n",
    "\n",
    "conn.close()\n",
    "\n",
    "print(f\"✅ standings_silver written: {len(df_standings)} rows\")\n"
   ]
  }
 ],
 "metadata": {
  "kernelspec": {
   "display_name": "Python 3 (ipykernel)",
   "language": "python",
   "name": "python3"
  },
  "language_info": {
   "codemirror_mode": {
    "name": "ipython",
    "version": 3
   },
   "file_extension": ".py",
   "mimetype": "text/x-python",
   "name": "python",
   "nbconvert_exporter": "python",
   "pygments_lexer": "ipython3",
   "version": "3.13.1"
  }
 },
 "nbformat": 4,
 "nbformat_minor": 5
}
