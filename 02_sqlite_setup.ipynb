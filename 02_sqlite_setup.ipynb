{
 "cells": [
  {
   "cell_type": "code",
   "execution_count": 1,
   "id": "cc0d0a4a-6546-41d7-b382-56c37ad35ff5",
   "metadata": {},
   "outputs": [
    {
     "name": "stdout",
     "output_type": "stream",
     "text": [
      "Connected to mlb_data.db\n"
     ]
    }
   ],
   "source": [
    "import json\n",
    "import sqlite3\n",
    "import requests\n",
    "\n",
    "DB_PATH = \"mlb_data.db\"\n",
    "\n",
    "def get_conn(db_path=DB_PATH):\n",
    "    conn = sqlite3.connect(db_path)\n",
    "    # sensible SQLite pragmas for local dev\n",
    "    conn.execute(\"PRAGMA journal_mode = WAL;\")\n",
    "    conn.execute(\"PRAGMA foreign_keys = ON;\")\n",
    "    return conn\n",
    "\n",
    "conn = get_conn()\n",
    "cur = conn.cursor()\n",
    "print(\"Connected to\", DB_PATH)\n"
   ]
  },
  {
   "cell_type": "code",
   "execution_count": 2,
   "id": "c2586126-04df-4f7b-b39a-7e00b6ea74a6",
   "metadata": {},
   "outputs": [
    {
     "name": "stdout",
     "output_type": "stream",
     "text": [
      "teams_bronze ready\n"
     ]
    }
   ],
   "source": [
    "cur.execute(\"\"\"\n",
    "CREATE TABLE IF NOT EXISTS teams_bronze (\n",
    "    team_id INTEGER PRIMARY KEY,\n",
    "    json_data TEXT NOT NULL,\n",
    "    loaded_utc TEXT NOT NULL DEFAULT (datetime('now'))\n",
    ")\n",
    "\"\"\")\n",
    "conn.commit()\n",
    "print(\"teams_bronze ready\")\n"
   ]
  },
  {
   "cell_type": "code",
   "execution_count": 3,
   "id": "c3b91163-c4ca-4d40-b95e-403d01786dca",
   "metadata": {},
   "outputs": [
    {
     "data": {
      "text/plain": [
       "(30, 'Athletics')"
      ]
     },
     "execution_count": 3,
     "metadata": {},
     "output_type": "execute_result"
    }
   ],
   "source": [
    "url = \"https://statsapi.mlb.com/api/v1/teams\"\n",
    "params = {\"sportId\": 1}  # 1 = MLB\n",
    "resp = requests.get(url, params=params, timeout=30)\n",
    "resp.raise_for_status()\n",
    "data = resp.json()\n",
    "\n",
    "teams = data.get(\"teams\", [])\n",
    "len(teams), teams[0][\"name\"]\n"
   ]
  },
  {
   "cell_type": "code",
   "execution_count": 4,
   "id": "63a83a18-de7d-4d14-9f08-779d81559b31",
   "metadata": {},
   "outputs": [
    {
     "name": "stdout",
     "output_type": "stream",
     "text": [
      "Upserted 30 rows into teams_bronze\n"
     ]
    }
   ],
   "source": [
    "rows = [(t[\"id\"], json.dumps(t, ensure_ascii=False)) for t in teams]\n",
    "\n",
    "cur.executemany(\"\"\"\n",
    "INSERT INTO teams_bronze (team_id, json_data, loaded_utc)\n",
    "VALUES (?, ?, datetime('now'))\n",
    "ON CONFLICT(team_id) DO UPDATE SET\n",
    "    json_data = excluded.json_data,\n",
    "    loaded_utc = excluded.loaded_utc\n",
    "\"\"\", rows)\n",
    "conn.commit()\n",
    "print(\"Upserted\", len(rows), \"rows into teams_bronze\")"
   ]
  },
  {
   "cell_type": "code",
   "execution_count": 5,
   "id": "ad30761c-3991-48c0-a073-b0d326e666a5",
   "metadata": {},
   "outputs": [
    {
     "data": {
      "text/plain": [
       "(30,\n",
       " [(108,\n",
       "   '{\"springLeague\": {\"id\": 114, \"name\": \"Cactus League\", \"link\": \"/api/v1/league/114\", \"abbreviation\": \"CL\"}, \"allStarStatu'),\n",
       "  (109,\n",
       "   '{\"springLeague\": {\"id\": 114, \"name\": \"Cactus League\", \"link\": \"/api/v1/league/114\", \"abbreviation\": \"CL\"}, \"allStarStatu'),\n",
       "  (110,\n",
       "   '{\"springLeague\": {\"id\": 115, \"name\": \"Grapefruit League\", \"link\": \"/api/v1/league/115\", \"abbreviation\": \"GL\"}, \"allStarS')])"
      ]
     },
     "execution_count": 5,
     "metadata": {},
     "output_type": "execute_result"
    }
   ],
   "source": [
    "cur.execute(\"SELECT COUNT(*) FROM teams_bronze\")\n",
    "count = cur.fetchone()[0]\n",
    "cur.execute(\"SELECT team_id, SUBSTR(json_data, 1, 120) FROM teams_bronze ORDER BY team_id LIMIT 3\")\n",
    "sample = cur.fetchall()\n",
    "count, sample"
   ]
  },
  {
   "cell_type": "code",
   "execution_count": 6,
   "id": "dbd97ce2-44ad-4756-90a1-7617913b4f09",
   "metadata": {},
   "outputs": [
    {
     "data": {
      "text/plain": [
       "((30, 33),\n",
       " ['allStarStatus',\n",
       "  'id',\n",
       "  'name',\n",
       "  'link',\n",
       "  'season',\n",
       "  'teamCode',\n",
       "  'fileCode',\n",
       "  'abbreviation',\n",
       "  'teamName',\n",
       "  'locationName',\n",
       "  'firstYearOfPlay',\n",
       "  'shortName'])"
      ]
     },
     "execution_count": 6,
     "metadata": {},
     "output_type": "execute_result"
    }
   ],
   "source": [
    "import pandas as pd\n",
    "import json\n",
    "\n",
    "# pull all raw JSON rows from bronze\n",
    "rows = []\n",
    "for (team_id, json_text) in cur.execute(\"SELECT team_id, json_data FROM teams_bronze\"):\n",
    "    rows.append(json.loads(json_text))\n",
    "\n",
    "# normalize nested structures into columns (keep everything)\n",
    "df_stage = pd.json_normalize(rows, sep=\"_\")\n",
    "\n",
    "# optional: basic hygiene for numeric fields you’ll likely use later\n",
    "for col in (\"season\", \"firstYearOfPlay\"):\n",
    "    if col in df_stage.columns:\n",
    "        df_stage[col] = pd.to_numeric(df_stage[col], errors=\"coerce\").fillna(0).astype(int)\n",
    "\n",
    "# write stage table (replace each run — it's a scratch/working table)\n",
    "df_stage.to_sql(\"teams_stage\", conn, if_exists=\"replace\", index=False)\n",
    "\n",
    "df_stage.shape, df_stage.columns[:12].tolist()\n",
    "\n"
   ]
  },
  {
   "cell_type": "code",
   "execution_count": 7,
   "id": "80c17dee-f13c-402c-807c-477cdaca799b",
   "metadata": {},
   "outputs": [
    {
     "data": {
      "text/plain": [
       "(30,\n",
       " [(108,\n",
       "   'Los Angeles Angels',\n",
       "   'LAA',\n",
       "   'ana',\n",
       "   'American League',\n",
       "   'American League West',\n",
       "   'Angel Stadium',\n",
       "   1),\n",
       "  (109,\n",
       "   'Arizona Diamondbacks',\n",
       "   'AZ',\n",
       "   'ari',\n",
       "   'National League',\n",
       "   'National League West',\n",
       "   'Chase Field',\n",
       "   1),\n",
       "  (110,\n",
       "   'Baltimore Orioles',\n",
       "   'BAL',\n",
       "   'bal',\n",
       "   'American League',\n",
       "   'American League East',\n",
       "   'Oriole Park at Camden Yards',\n",
       "   1),\n",
       "  (111,\n",
       "   'Boston Red Sox',\n",
       "   'BOS',\n",
       "   'bos',\n",
       "   'American League',\n",
       "   'American League East',\n",
       "   'Fenway Park',\n",
       "   1),\n",
       "  (112,\n",
       "   'Chicago Cubs',\n",
       "   'CHC',\n",
       "   'chn',\n",
       "   'National League',\n",
       "   'National League Central',\n",
       "   'Wrigley Field',\n",
       "   1)])"
      ]
     },
     "execution_count": 7,
     "metadata": {},
     "output_type": "execute_result"
    }
   ],
   "source": [
    "cur.execute(\"SELECT COUNT(*) FROM teams_stage\")\n",
    "count = cur.fetchone()[0]\n",
    "cur.execute(\"\"\"\n",
    "  SELECT id, name, abbreviation, teamCode, league_name, division_name, venue_name, active\n",
    "  FROM teams_stage ORDER BY id LIMIT 5\n",
    "\"\"\")\n",
    "count, cur.fetchall()\n"
   ]
  },
  {
   "cell_type": "code",
   "execution_count": 8,
   "id": "98fd691d-dce0-4bd1-8bcb-88450bc92fa6",
   "metadata": {},
   "outputs": [
    {
     "name": "stdout",
     "output_type": "stream",
     "text": [
      "teams_silver ready\n"
     ]
    }
   ],
   "source": [
    "cur.execute(\"\"\"\n",
    "CREATE TABLE IF NOT EXISTS teams_silver (\n",
    "    team_id INTEGER PRIMARY KEY,\n",
    "    team_name TEXT,\n",
    "    abbrev TEXT,\n",
    "    team_code TEXT,\n",
    "    franchise_name TEXT,\n",
    "    club_name TEXT,\n",
    "    league TEXT,\n",
    "    division TEXT,\n",
    "    location TEXT,\n",
    "    season INTEGER,\n",
    "    first_year_of_play INTEGER,\n",
    "    venue_name TEXT,\n",
    "    active INTEGER\n",
    ")\n",
    "\"\"\")\n",
    "conn.commit()\n",
    "print(\"teams_silver ready\")\n"
   ]
  },
  {
   "cell_type": "code",
   "execution_count": 9,
   "id": "5e697c86-1c83-4eef-93df-0d93729cf95b",
   "metadata": {},
   "outputs": [
    {
     "data": {
      "text/plain": [
       "30"
      ]
     },
     "execution_count": 9,
     "metadata": {},
     "output_type": "execute_result"
    }
   ],
   "source": [
    "cur.execute(\"\"\"\n",
    "INSERT OR REPLACE INTO teams_silver (\n",
    "  team_id, team_name, abbrev, team_code, franchise_name, club_name,\n",
    "  league, division, location, season, first_year_of_play, venue_name, active\n",
    ")\n",
    "SELECT\n",
    "  id,\n",
    "  name,\n",
    "  abbreviation,\n",
    "  teamCode,\n",
    "  franchiseName,\n",
    "  teamName,\n",
    "  league_name,\n",
    "  division_name,\n",
    "  locationName,\n",
    "  season,\n",
    "  firstYearOfPlay,\n",
    "  venue_name,\n",
    "  CASE WHEN active THEN 1 ELSE 0 END\n",
    "FROM teams_stage\n",
    "\"\"\")\n",
    "conn.commit()\n",
    "cur.rowcount  # rows written to silver\n"
   ]
  },
  {
   "cell_type": "code",
   "execution_count": 10,
   "id": "96ceb5af-c9af-4efa-ba52-66cc9fd5aa95",
   "metadata": {},
   "outputs": [
    {
     "data": {
      "text/plain": [
       "[(133,\n",
       "  'ATH',\n",
       "  'Athletics',\n",
       "  'American League',\n",
       "  'American League West',\n",
       "  'Sutter Health Park',\n",
       "  1),\n",
       " (144,\n",
       "  'ATL',\n",
       "  'Braves',\n",
       "  'National League',\n",
       "  'National League East',\n",
       "  'Truist Park',\n",
       "  1),\n",
       " (109,\n",
       "  'AZ',\n",
       "  'D-backs',\n",
       "  'National League',\n",
       "  'National League West',\n",
       "  'Chase Field',\n",
       "  1),\n",
       " (110,\n",
       "  'BAL',\n",
       "  'Orioles',\n",
       "  'American League',\n",
       "  'American League East',\n",
       "  'Oriole Park at Camden Yards',\n",
       "  1),\n",
       " (111,\n",
       "  'BOS',\n",
       "  'Red Sox',\n",
       "  'American League',\n",
       "  'American League East',\n",
       "  'Fenway Park',\n",
       "  1),\n",
       " (112,\n",
       "  'CHC',\n",
       "  'Cubs',\n",
       "  'National League',\n",
       "  'National League Central',\n",
       "  'Wrigley Field',\n",
       "  1),\n",
       " (113,\n",
       "  'CIN',\n",
       "  'Reds',\n",
       "  'National League',\n",
       "  'National League Central',\n",
       "  'Great American Ball Park',\n",
       "  1),\n",
       " (114,\n",
       "  'CLE',\n",
       "  'Guardians',\n",
       "  'American League',\n",
       "  'American League Central',\n",
       "  'Progressive Field',\n",
       "  1),\n",
       " (115,\n",
       "  'COL',\n",
       "  'Rockies',\n",
       "  'National League',\n",
       "  'National League West',\n",
       "  'Coors Field',\n",
       "  1),\n",
       " (145,\n",
       "  'CWS',\n",
       "  'White Sox',\n",
       "  'American League',\n",
       "  'American League Central',\n",
       "  'Rate Field',\n",
       "  1)]"
      ]
     },
     "execution_count": 10,
     "metadata": {},
     "output_type": "execute_result"
    }
   ],
   "source": [
    "cur.execute(\"\"\"\n",
    "SELECT team_id, abbrev, club_name, league, division, venue_name, active\n",
    "FROM teams_silver\n",
    "ORDER BY abbrev\n",
    "LIMIT 10\n",
    "\"\"\")\n",
    "cur.fetchall()\n"
   ]
  },
  {
   "cell_type": "code",
   "execution_count": 12,
   "id": "c4045f5b-7414-451e-8b14-611fb570e8c2",
   "metadata": {},
   "outputs": [
    {
     "name": "stdout",
     "output_type": "stream",
     "text": [
      "Closed DB.\n"
     ]
    }
   ],
   "source": [
    "cur.close()\n",
    "conn.close()\n",
    "print(\"Closed DB.\")\n",
    "\n"
   ]
  },
  {
   "cell_type": "code",
   "execution_count": null,
   "id": "5a3f89cc-1084-4573-80c6-595d22dbef79",
   "metadata": {},
   "outputs": [],
   "source": []
  }
 ],
 "metadata": {
  "kernelspec": {
   "display_name": "Python 3 (ipykernel)",
   "language": "python",
   "name": "python3"
  },
  "language_info": {
   "codemirror_mode": {
    "name": "ipython",
    "version": 3
   },
   "file_extension": ".py",
   "mimetype": "text/x-python",
   "name": "python",
   "nbconvert_exporter": "python",
   "pygments_lexer": "ipython3",
   "version": "3.11.5"
  }
 },
 "nbformat": 4,
 "nbformat_minor": 5
}
