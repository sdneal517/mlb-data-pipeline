{
 "cells": [
  {
   "cell_type": "code",
   "execution_count": 1,
   "id": "74bda895-42e3-47b8-829d-8bc030efadf9",
   "metadata": {},
   "outputs": [
    {
     "ename": "ModuleNotFoundError",
     "evalue": "No module named 'common'",
     "output_type": "error",
     "traceback": [
      "\u001b[31m---------------------------------------------------------------------------\u001b[39m",
      "\u001b[31mModuleNotFoundError\u001b[39m                       Traceback (most recent call last)",
      "\u001b[36mCell\u001b[39m\u001b[36m \u001b[39m\u001b[32mIn[1]\u001b[39m\u001b[32m, line 6\u001b[39m\n\u001b[32m      4\u001b[39m \u001b[38;5;28;01mimport\u001b[39;00m\u001b[38;5;250m \u001b[39m\u001b[34;01mrequests\u001b[39;00m\n\u001b[32m      5\u001b[39m \u001b[38;5;28;01mfrom\u001b[39;00m\u001b[38;5;250m \u001b[39m\u001b[34;01mdatetime\u001b[39;00m\u001b[38;5;250m \u001b[39m\u001b[38;5;28;01mimport\u001b[39;00m date, datetime\n\u001b[32m----> \u001b[39m\u001b[32m6\u001b[39m \u001b[38;5;28;01mfrom\u001b[39;00m\u001b[38;5;250m \u001b[39m\u001b[34;01mcommon\u001b[39;00m\u001b[38;5;250m \u001b[39m\u001b[38;5;28;01mimport\u001b[39;00m get_conn, log\n\u001b[32m      8\u001b[39m \u001b[38;5;28;01mdef\u001b[39;00m\u001b[38;5;250m \u001b[39m\u001b[34mmain\u001b[39m():\n\u001b[32m      9\u001b[39m     today = date.today().isoformat()\n",
      "\u001b[31mModuleNotFoundError\u001b[39m: No module named 'common'"
     ]
    }
   ],
   "source": [
    "# refresh_standings_silver.py\n",
    "import statsapi\n",
    "import pandas as pd\n",
    "import requests\n",
    "from datetime import date, datetime\n",
    "from common import get_conn, log\n",
    "\n",
    "def main():\n",
    "    today = date.today().isoformat()\n",
    "    log.info(f\"Refreshing standings_silver for {today}\")\n",
    "\n",
    "    rows = []\n",
    "    for league_id in [103, 104]:  # 103=AL, 104=NL\n",
    "        data = statsapi.get(\"standings\", {\"leagueId\": league_id, \"season\": 2025, \"date\": today})\n",
    "        for rec in data.get(\"records\", []):\n",
    "            league = rec.get(\"league\", {}) or {}\n",
    "            division = rec.get(\"division\", {}) or {}\n",
    "            for tr in rec.get(\"teamRecords\", []):\n",
    "                team = tr.get(\"team\", {}) or {}\n",
    "                now = datetime.now().isoformat()\n",
    "                rows.append({\n",
    "                    \"season\": 2025,\n",
    "                    \"standings_date\": today,\n",
    "                    \"league_id\": league.get(\"id\"),\n",
    "                    \"division_id\": division.get(\"id\"),\n",
    "                    \"team_id\": team.get(\"id\"),\n",
    "                    \"team_name\": team.get(\"name\"),\n",
    "                    \"wins\": tr.get(\"wins\"),\n",
    "                    \"losses\": tr.get(\"losses\"),\n",
    "                    \"pct\": tr.get(\"winningPercentage\"),\n",
    "                    \"games_back\": tr.get(\"gamesBack\"),\n",
    "                    \"wc_games_back\": tr.get(\"wildCardGamesBack\"),\n",
    "                    \"division_leader\": tr.get(\"divisionLeader\"),\n",
    "                    \"created_at\": now,\n",
    "                    \"last_updated\": now,\n",
    "                })\n",
    "\n",
    "    df = pd.DataFrame(rows)\n",
    "\n",
    "    # Add league/division names\n",
    "    leagues = requests.get(\"https://statsapi.mlb.com/api/v1/leagues\").json()[\"leagues\"]\n",
    "    df_leagues = pd.DataFrame([{\"league_id\": l[\"id\"], \"league_name\": l[\"name\"]} for l in leagues])\n",
    "    divs = requests.get(\"https://statsapi.mlb.com/api/v1/divisions\").json()[\"divisions\"]\n",
    "    df_divs = pd.DataFrame([{\"division_id\": d[\"id\"], \"division_name\": d[\"name\"]} for d in divs])\n",
    "\n",
    "    df = df.merge(df_leagues, on=\"league_id\", how=\"left\")\n",
    "    df = df.merge(df_divs, on=\"division_id\", how=\"left\")\n",
    "\n",
    "    log.info(f\"Built {len(df)} rows\")\n",
    "\n",
    "    with get_conn() as conn:\n",
    "        df.to_sql(\"standings_silver\", conn, if_exists=\"replace\", index=False)\n",
    "\n",
    "    log.info(\"✅ standings_silver refresh complete\")\n",
    "\n",
    "if __name__ == \"__main__\":\n",
    "    main()\n"
   ]
  },
  {
   "cell_type": "code",
   "execution_count": null,
   "id": "f21e84e2-3f8a-4b40-8ffe-81db42b5cd0e",
   "metadata": {},
   "outputs": [],
   "source": []
  }
 ],
 "metadata": {
  "kernelspec": {
   "display_name": "Python 3 (ipykernel)",
   "language": "python",
   "name": "python3"
  },
  "language_info": {
   "codemirror_mode": {
    "name": "ipython",
    "version": 3
   },
   "file_extension": ".py",
   "mimetype": "text/x-python",
   "name": "python",
   "nbconvert_exporter": "python",
   "pygments_lexer": "ipython3",
   "version": "3.13.1"
  }
 },
 "nbformat": 4,
 "nbformat_minor": 5
}
