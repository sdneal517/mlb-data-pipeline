{
 "cells": [
  {
   "cell_type": "code",
   "execution_count": 1,
   "id": "723bbc6a-316f-4cb2-bbc5-b3d6a3d51c82",
   "metadata": {},
   "outputs": [
    {
     "name": "stdout",
     "output_type": "stream",
     "text": [
      "HTTP status: 200\n"
     ]
    }
   ],
   "source": [
    "# STEP 1 — Explore /teams endpoint\n",
    "\n",
    "import requests\n",
    "\n",
    "url = \"https://statsapi.mlb.com/api/v1/teams\"\n",
    "\n",
    "# Make the request\n",
    "response = requests.get(url)\n",
    "\n",
    "print(\"HTTP status:\", response.status_code)  # 200 = OK\n"
   ]
  },
  {
   "cell_type": "code",
   "execution_count": 2,
   "id": "1021c9de-f142-422f-b20c-74d0cea698b9",
   "metadata": {},
   "outputs": [
    {
     "name": "stdout",
     "output_type": "stream",
     "text": [
      "Top-level type: <class 'dict'>\n",
      "Top-level keys: ['copyright', 'teams']\n"
     ]
    }
   ],
   "source": [
    "# STEP 2 — Convert the response to JSON and peek\n",
    "\n",
    "data = response.json()   # convert raw response into a Python dict\n",
    "\n",
    "print(\"Top-level type:\", type(data))\n",
    "print(\"Top-level keys:\", list(data.keys()))\n"
   ]
  },
  {
   "cell_type": "code",
   "execution_count": 4,
   "id": "e8c1ef0e-1194-4d4a-a647-8a92f10fe17e",
   "metadata": {},
   "outputs": [
    {
     "name": "stdout",
     "output_type": "stream",
     "text": [
      "Type of teams: <class 'list'>\n",
      "Number of teams: 790\n",
      "First team type: <class 'dict'>\n",
      "Keys in first team: ['allStarStatus', 'id', 'name', 'link', 'season', 'venue', 'teamCode', 'fileCode', 'abbreviation', 'teamName', 'locationName', 'firstYearOfPlay', 'league', 'sport', 'shortName', 'parentOrgName', 'parentOrgId', 'franchiseName', 'clubName', 'active']\n"
     ]
    }
   ],
   "source": [
    "# STEP 3 — Peek inside the \"teams\" list\n",
    "\n",
    "teams = data[\"teams\"]\n",
    "\n",
    "print(\"Type of teams:\", type(teams))\n",
    "print(\"Number of teams:\", len(teams))\n",
    "\n",
    "# Show just the first team object (keys only, not all values yet)\n",
    "first_team = teams[0]\n",
    "print(\"First team type:\", type(first_team))\n",
    "print(\"Keys in first team:\", list(first_team.keys()))\n"
   ]
  },
  {
   "cell_type": "code",
   "execution_count": 11,
   "id": "16a82afb-162a-4081-9b8c-b7266b96243f",
   "metadata": {},
   "outputs": [
    {
     "name": "stdout",
     "output_type": "stream",
     "text": [
      "Number of MLB teams: 30\n",
      "First 5 MLB teams: ['Los Angeles Angels', 'Arizona Diamondbacks', 'Baltimore Orioles', 'Boston Red Sox', 'Chicago Cubs']\n",
      "Number of MLB teams: 30\n",
      "ID: 108 | Name: Los Angeles Angels | Abbreviation: LAA\n",
      "ID: 109 | Name: Arizona Diamondbacks | Abbreviation: AZ\n",
      "ID: 110 | Name: Baltimore Orioles | Abbreviation: BAL\n",
      "ID: 111 | Name: Boston Red Sox | Abbreviation: BOS\n",
      "ID: 112 | Name: Chicago Cubs | Abbreviation: CHC\n"
     ]
    }
   ],
   "source": [
    "# STEP 4 — Filter to MLB teams and inspect results\n",
    "\n",
    "# Keep only teams where sport.id == 1 (Major League Baseball)\n",
    "# STEP — Filter down to only MLB teams (sport.id == 1)\n",
    "\n",
    "mlb_teams = []  # start with an empty list\n",
    "\n",
    "for t in teams:\n",
    "    sport_dict = t.get(\"sport\", {})     # step 1: get sport dict (nested)\n",
    "    sport_id = sport_dict.get(\"id\")     # step 2: get the id inside sport\n",
    "\n",
    "    if sport_id == 1:                   # step 3: check if it's MLB\n",
    "        mlb_teams.append(t)             # step 4: keep this team\n",
    "\n",
    "print(\"Number of MLB teams:\", len(mlb_teams))\n",
    "print(\"First 5 MLB teams:\", [team[\"name\"] for team in mlb_teams[:5]])\n",
    "\n",
    "\n",
    "print(\"Number of MLB teams:\", len(mlb_teams))\n",
    "\n",
    "# Peek at the first few teams\n",
    "for team in mlb_teams[:5]:\n",
    "    print(f\"ID: {team['id']} | Name: {team['name']} | Abbreviation: {team['abbreviation']}\")\n"
   ]
  },
  {
   "cell_type": "code",
   "execution_count": 13,
   "id": "28d334ae-0a5f-4f37-ac89-b6fbeebb3315",
   "metadata": {},
   "outputs": [
    {
     "name": "stdout",
     "output_type": "stream",
     "text": [
      "\n",
      "--- MLB Team 1 ---\n",
      "{'abbreviation': 'LAA',\n",
      " 'active': True,\n",
      " 'allStarStatus': 'N',\n",
      " 'clubName': 'Angels',\n",
      " 'division': {'id': 200,\n",
      "              'link': '/api/v1/divisions/200',\n",
      "              'name': 'American League West'},\n",
      " 'fileCode': 'ana',\n",
      " 'firstYearOfPlay': '1961',\n",
      " 'franchiseName': 'Los Angeles',\n",
      " 'id': 108,\n",
      " 'league': {'id': 103, 'link': '/api/v1/league/103', 'name': 'American League'},\n",
      " 'link': '/api/v1/teams/108',\n",
      " 'locationName': 'Anaheim',\n",
      " 'name': 'Los Angeles Angels',\n",
      " 'season': 2025,\n",
      " 'shortName': 'LA Angels',\n",
      " 'sport': {'id': 1,\n",
      "           'link': '/api/v1/sports/1',\n",
      "           'name': 'Major League Baseball'},\n",
      " 'springLeague': {'abbreviation': 'CL',\n",
      "                  'id': 114,\n",
      "                  'link': '/api/v1/league/114',\n",
      "                  'name': 'Cactus League'},\n",
      " 'springVenue': {'id': 2500, 'link': '/api/v1/venues/2500'},\n",
      " 'teamCode': 'ana',\n",
      " 'teamName': 'Angels',\n",
      " 'venue': {'id': 1, 'link': '/api/v1/venues/1', 'name': 'Angel Stadium'}}\n",
      "\n",
      "--- MLB Team 2 ---\n",
      "{'abbreviation': 'AZ',\n",
      " 'active': True,\n",
      " 'allStarStatus': 'N',\n",
      " 'clubName': 'Diamondbacks',\n",
      " 'division': {'id': 203,\n",
      "              'link': '/api/v1/divisions/203',\n",
      "              'name': 'National League West'},\n",
      " 'fileCode': 'ari',\n",
      " 'firstYearOfPlay': '1996',\n",
      " 'franchiseName': 'Arizona',\n",
      " 'id': 109,\n",
      " 'league': {'id': 104, 'link': '/api/v1/league/104', 'name': 'National League'},\n",
      " 'link': '/api/v1/teams/109',\n",
      " 'locationName': 'Phoenix',\n",
      " 'name': 'Arizona Diamondbacks',\n",
      " 'season': 2025,\n",
      " 'shortName': 'Arizona',\n",
      " 'sport': {'id': 1,\n",
      "           'link': '/api/v1/sports/1',\n",
      "           'name': 'Major League Baseball'},\n",
      " 'springLeague': {'abbreviation': 'CL',\n",
      "                  'id': 114,\n",
      "                  'link': '/api/v1/league/114',\n",
      "                  'name': 'Cactus League'},\n",
      " 'springVenue': {'id': 4249, 'link': '/api/v1/venues/4249'},\n",
      " 'teamCode': 'ari',\n",
      " 'teamName': 'D-backs',\n",
      " 'venue': {'id': 15, 'link': '/api/v1/venues/15', 'name': 'Chase Field'}}\n"
     ]
    }
   ],
   "source": [
    "# STEP 5 (prep) — Inspect all keys and values for a couple of MLB teams\n",
    "\n",
    "from pprint import pprint  # pretty printer for readability\n",
    "\n",
    "# Show full dict for first 2 MLB teams\n",
    "for i, team in enumerate(mlb_teams[:2], start=1):\n",
    "    print(f\"\\n--- MLB Team {i} ---\")\n",
    "    pprint(team)   # pretty-print the entire dictionary\n"
   ]
  },
  {
   "cell_type": "code",
   "execution_count": 14,
   "id": "1c327703-7802-4d8c-abaf-01cd3a4a36a5",
   "metadata": {},
   "outputs": [
    {
     "name": "stdout",
     "output_type": "stream",
     "text": [
      "{'id': 108, 'name': 'Los Angeles Angels', 'abbreviation': 'LAA', 'division': 'American League West', 'league': 'American League', 'location': 'Anaheim', 'first_year': '1961'}\n",
      "{'id': 109, 'name': 'Arizona Diamondbacks', 'abbreviation': 'AZ', 'division': 'National League West', 'league': 'National League', 'location': 'Phoenix', 'first_year': '1996'}\n",
      "{'id': 110, 'name': 'Baltimore Orioles', 'abbreviation': 'BAL', 'division': 'American League East', 'league': 'American League', 'location': 'Baltimore', 'first_year': '1901'}\n",
      "{'id': 111, 'name': 'Boston Red Sox', 'abbreviation': 'BOS', 'division': 'American League East', 'league': 'American League', 'location': 'Boston', 'first_year': '1901'}\n",
      "{'id': 112, 'name': 'Chicago Cubs', 'abbreviation': 'CHC', 'division': 'National League Central', 'league': 'National League', 'location': 'Chicago', 'first_year': '1874'}\n"
     ]
    }
   ],
   "source": [
    "# STEP 6 — Extract useful fields (with division + league)\n",
    "\n",
    "clean_teams = []\n",
    "\n",
    "for team in mlb_teams:\n",
    "    clean_team = {\n",
    "        \"id\": team[\"id\"],                           # unique team ID\n",
    "        \"name\": team[\"name\"],                       # full team name\n",
    "        \"abbreviation\": team[\"abbreviation\"],       # short code (e.g., NYY)\n",
    "        \"division\": team.get(\"division\", {}).get(\"name\"),  # nested dict -> name\n",
    "        \"league\": team.get(\"league\", {}).get(\"name\"),      # nested dict -> name\n",
    "        \"location\": team[\"locationName\"],           # city/location\n",
    "        \"first_year\": team[\"firstYearOfPlay\"]       # year franchise started\n",
    "    }\n",
    "    clean_teams.append(clean_team)\n",
    "\n",
    "# Peek at the first few results\n",
    "for ct in clean_teams[:5]:\n",
    "    print(ct)\n"
   ]
  },
  {
   "cell_type": "code",
   "execution_count": 15,
   "id": "1855f44f-5804-4dfb-8109-469bcc40ecca",
   "metadata": {},
   "outputs": [
    {
     "name": "stdout",
     "output_type": "stream",
     "text": [
      "Shape: (30, 7)\n"
     ]
    },
    {
     "data": {
      "text/html": [
       "<div>\n",
       "<style scoped>\n",
       "    .dataframe tbody tr th:only-of-type {\n",
       "        vertical-align: middle;\n",
       "    }\n",
       "\n",
       "    .dataframe tbody tr th {\n",
       "        vertical-align: top;\n",
       "    }\n",
       "\n",
       "    .dataframe thead th {\n",
       "        text-align: right;\n",
       "    }\n",
       "</style>\n",
       "<table border=\"1\" class=\"dataframe\">\n",
       "  <thead>\n",
       "    <tr style=\"text-align: right;\">\n",
       "      <th></th>\n",
       "      <th>id</th>\n",
       "      <th>name</th>\n",
       "      <th>abbreviation</th>\n",
       "      <th>division</th>\n",
       "      <th>league</th>\n",
       "      <th>location</th>\n",
       "      <th>first_year</th>\n",
       "    </tr>\n",
       "  </thead>\n",
       "  <tbody>\n",
       "    <tr>\n",
       "      <th>0</th>\n",
       "      <td>108</td>\n",
       "      <td>Los Angeles Angels</td>\n",
       "      <td>LAA</td>\n",
       "      <td>American League West</td>\n",
       "      <td>American League</td>\n",
       "      <td>Anaheim</td>\n",
       "      <td>1961</td>\n",
       "    </tr>\n",
       "    <tr>\n",
       "      <th>1</th>\n",
       "      <td>109</td>\n",
       "      <td>Arizona Diamondbacks</td>\n",
       "      <td>AZ</td>\n",
       "      <td>National League West</td>\n",
       "      <td>National League</td>\n",
       "      <td>Phoenix</td>\n",
       "      <td>1996</td>\n",
       "    </tr>\n",
       "    <tr>\n",
       "      <th>2</th>\n",
       "      <td>110</td>\n",
       "      <td>Baltimore Orioles</td>\n",
       "      <td>BAL</td>\n",
       "      <td>American League East</td>\n",
       "      <td>American League</td>\n",
       "      <td>Baltimore</td>\n",
       "      <td>1901</td>\n",
       "    </tr>\n",
       "    <tr>\n",
       "      <th>3</th>\n",
       "      <td>111</td>\n",
       "      <td>Boston Red Sox</td>\n",
       "      <td>BOS</td>\n",
       "      <td>American League East</td>\n",
       "      <td>American League</td>\n",
       "      <td>Boston</td>\n",
       "      <td>1901</td>\n",
       "    </tr>\n",
       "    <tr>\n",
       "      <th>4</th>\n",
       "      <td>112</td>\n",
       "      <td>Chicago Cubs</td>\n",
       "      <td>CHC</td>\n",
       "      <td>National League Central</td>\n",
       "      <td>National League</td>\n",
       "      <td>Chicago</td>\n",
       "      <td>1874</td>\n",
       "    </tr>\n",
       "  </tbody>\n",
       "</table>\n",
       "</div>"
      ],
      "text/plain": [
       "    id                  name abbreviation                 division  \\\n",
       "0  108    Los Angeles Angels          LAA     American League West   \n",
       "1  109  Arizona Diamondbacks           AZ     National League West   \n",
       "2  110     Baltimore Orioles          BAL     American League East   \n",
       "3  111        Boston Red Sox          BOS     American League East   \n",
       "4  112          Chicago Cubs          CHC  National League Central   \n",
       "\n",
       "            league   location first_year  \n",
       "0  American League    Anaheim       1961  \n",
       "1  National League    Phoenix       1996  \n",
       "2  American League  Baltimore       1901  \n",
       "3  American League     Boston       1901  \n",
       "4  National League    Chicago       1874  "
      ]
     },
     "execution_count": 15,
     "metadata": {},
     "output_type": "execute_result"
    }
   ],
   "source": [
    "# STEP 7 — Convert clean_teams into a DataFrame for a SILVER level clean\n",
    "\n",
    "import pandas as pd\n",
    "\n",
    "df_teams = pd.DataFrame(clean_teams)\n",
    "\n",
    "# Show the shape and first few rows\n",
    "print(\"Shape:\", df_teams.shape)\n",
    "df_teams.head()\n"
   ]
  },
  {
   "cell_type": "code",
   "execution_count": null,
   "id": "6676d151-29fc-409d-b070-ed39c278739a",
   "metadata": {},
   "outputs": [],
   "source": []
  }
 ],
 "metadata": {
  "kernelspec": {
   "display_name": "Python 3 (ipykernel)",
   "language": "python",
   "name": "python3"
  },
  "language_info": {
   "codemirror_mode": {
    "name": "ipython",
    "version": 3
   },
   "file_extension": ".py",
   "mimetype": "text/x-python",
   "name": "python",
   "nbconvert_exporter": "python",
   "pygments_lexer": "ipython3",
   "version": "3.13.1"
  }
 },
 "nbformat": 4,
 "nbformat_minor": 5
}
